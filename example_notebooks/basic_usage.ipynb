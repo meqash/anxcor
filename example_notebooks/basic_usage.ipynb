{
 "cells": [
  {
   "cell_type": "code",
   "execution_count": 1,
   "metadata": {},
   "outputs": [],
   "source": [
    "source_dir = '../tests/test_data/test_ancor_bank/test_waveforms_multi_station'\n",
    "target_dir = '../tests/test_data/test_ancor_bank/test_save_output'\n",
    "from obsplus.bank import WaveBank\n",
    "from obspy.core import Stream, Trace\n",
    "import numpy as np\n",
    "import sys\n",
    "import os\n",
    "sys.path.append('/home/kevin/PycharmProjects/ancor')\n",
    "starttime_stamp = 1481761092.0 + 3600 * 24\n"
   ]
  },
  {
   "cell_type": "code",
   "execution_count": 2,
   "metadata": {},
   "outputs": [],
   "source": [
    "class WavebankWrapper(AnxcorDatabase):\n",
    "\n",
    "    def __init__(self, directory):\n",
    "        self.bank = WaveBank(directory)\n",
    "        import warnings\n",
    "        warnings.filterwarnings(\"ignore\")\n",
    "\n",
    "    def get_waveforms(self, **kwargs):\n",
    "        stream =  self.bank.get_waveforms(**kwargs)\n",
    "        traces = []\n",
    "        for trace in stream:\n",
    "            data = trace.data[:-1]\n",
    "            header = {'delta':np.floor(trace.stats.delta*1000)/1000.0,\n",
    "                      'station': trace.stats.station,\n",
    "                      'starttime':trace.stats.starttime,\n",
    "                      'channel': trace.stats.channel,\n",
    "                      'network': trace.stats.network}\n",
    "            traces.append(Trace(data,header=header))\n",
    "        return Stream(traces=traces)\n",
    "\n",
    "    def get_stations(self):\n",
    "        df = self.bank.get_uptime_df()\n",
    "\n",
    "        def create_seed(row):\n",
    "            network = row['network']\n",
    "            station = row['station']\n",
    "            return network + '.' + station\n",
    "\n",
    "        df['seed'] = df.apply(lambda row: create_seed(row), axis=1)\n",
    "        unique_stations = df['seed'].unique().tolist()\n",
    "        return unique_stations\n"
   ]
  },
  {
   "cell_type": "code",
   "execution_count": 3,
   "metadata": {},
   "outputs": [],
   "source": [
    "from anxcor.core import Anxcor\n",
    "from anxcor.xarray_routines import XArrayBandpass, XArrayRemoveMeanTrend, XArrayTemporalNorm, XArrayWhiten"
   ]
  },
  {
   "cell_type": "code",
   "execution_count": 4,
   "metadata": {},
   "outputs": [],
   "source": [
    "anxcor = Anxcor(3600)\n",
    "times = anxcor.get_starttimes(starttime_stamp, starttime_stamp + 4 * 3600, 0.5)\n",
    "bank = WavebankWrapper(source_dir)\n",
    "anxcor.add_dataset(bank, 'nodals')\n",
    "\n",
    "anxcor.set_task_kwargs('crosscorrelate',{'max_tau_shift':10.0})\n",
    "\n",
    "anxcor.add_process(XArrayBandpass(lower_frequency=0.001))\n",
    "anxcor.add_process(XArrayRemoveMeanTrend())\n",
    "anxcor.add_process(XArrayTemporalNorm())\n",
    "anxcor.add_process(XArrayWhiten(lower_frequency=0.001))"
   ]
  },
  {
   "cell_type": "code",
   "execution_count": 5,
   "metadata": {},
   "outputs": [],
   "source": [
    "from dask.distributed import Client"
   ]
  },
  {
   "cell_type": "code",
   "execution_count": 6,
   "metadata": {},
   "outputs": [],
   "source": [
    "client = Client(n_workers=1,threads_per_worker=4)\n"
   ]
  },
  {
   "cell_type": "code",
   "execution_count": 7,
   "metadata": {
    "scrolled": false
   },
   "outputs": [
    {
     "data": {
      "text/html": [
       "<table style=\"border: 2px solid white;\">\n",
       "<tr>\n",
       "<td style=\"vertical-align: top; border: 0px solid white\">\n",
       "<h3>Client</h3>\n",
       "<ul>\n",
       "  <li><b>Scheduler: </b>tcp://127.0.0.1:37409\n",
       "  <li><b>Dashboard: </b><a href='http://127.0.0.1:35737/status' target='_blank'>http://127.0.0.1:35737/status</a>\n",
       "</ul>\n",
       "</td>\n",
       "<td style=\"vertical-align: top; border: 0px solid white\">\n",
       "<h3>Cluster</h3>\n",
       "<ul>\n",
       "  <li><b>Workers: </b>1</li>\n",
       "  <li><b>Cores: </b>4</li>\n",
       "  <li><b>Memory: </b>25.22 GB</li>\n",
       "</ul>\n",
       "</td>\n",
       "</tr>\n",
       "</table>"
      ],
      "text/plain": [
       "<Client: scheduler='tcp://127.0.0.1:37409' processes=1 cores=4>"
      ]
     },
     "execution_count": 7,
     "metadata": {},
     "output_type": "execute_result"
    }
   ],
   "source": [
    "client"
   ]
  },
  {
   "cell_type": "code",
   "execution_count": 8,
   "metadata": {
    "scrolled": true
   },
   "outputs": [],
   "source": [
    "result=anxcor.process(times,dask_client=client)"
   ]
  },
  {
   "cell_type": "code",
   "execution_count": 9,
   "metadata": {},
   "outputs": [
    {
     "data": {
      "text/plain": [
       "['  File \"/home/kevin/PycharmProjects/ancor/anxcor/abstractions.py\", line 166, in _execute\\n    persisted_metadata = self.__metadata_to_persist(*args, **kwargs)\\n',\n",
       " '  File \"/home/kevin/PycharmProjects/ancor/anxcor/abstractions.py\", line 222, in __metadata_to_persist\\n    return self._metadata_to_persist(*param,**kwargs)\\n',\n",
       " '  File \"/home/kevin/PycharmProjects/ancor/anxcor/xarray_routines.py\", line 258, in _metadata_to_persist\\n    attrs = {\\'delta\\'    : xarray_1.attrs[\\'delta\\'],\\n']"
      ]
     },
     "execution_count": 9,
     "metadata": {},
     "output_type": "execute_result"
    }
   ],
   "source": [
    "import traceback  # doctest: +SKIP\n",
    "tb = result.traceback()  # doctest: +SKIP\n",
    "traceback.format_tb(tb)"
   ]
  },
  {
   "cell_type": "code",
   "execution_count": 15,
   "metadata": {},
   "outputs": [
    {
     "data": {
      "image/png": "[encoded data removed]",
      "text/plain": [
       "<IPython.core.display.Image object>"
      ]
     },
     "metadata": {},
     "output_type": "display_data"
    }
   ],
   "source": [
    "from IPython.display import display\n",
    "display(r)"
   ]
  },
  {
   "cell_type": "code",
   "execution_count": 9,
   "metadata": {},
   "outputs": [],
   "source": [
    "result = result.result()"
   ]
  },
  {
   "cell_type": "code",
   "execution_count": 11,
   "metadata": {},
   "outputs": [
    {
     "name": "stdout",
     "output_type": "stream",
     "text": [
      "True\n",
      "True\n",
      "False\n",
      "True\n"
     ]
    }
   ],
   "source": []
  },
  {
   "cell_type": "code",
   "execution_count": null,
   "metadata": {},
   "outputs": [],
   "source": []
  }
 ],
 "metadata": {
  "kernelspec": {
   "display_name": "Python [conda env:ancor] *",
   "language": "python",
   "name": "conda-env-ancor-py"
  },
  "language_info": {
   "codemirror_mode": {
    "name": "ipython",
    "version": 3
   },
   "file_extension": ".py",
   "mimetype": "text/x-python",
   "name": "python",
   "nbconvert_exporter": "python",
   "pygments_lexer": "ipython3",
   "version": "3.6.7"
  }
 },
 "nbformat": 4,
 "nbformat_minor": 2
}
